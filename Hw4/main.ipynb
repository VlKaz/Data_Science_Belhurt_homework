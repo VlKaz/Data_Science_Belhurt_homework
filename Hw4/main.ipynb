{
 "cells": [
  {
   "cell_type": "code",
   "execution_count": 40,
   "id": "ab3f3737-4f93-49b6-b319-6dc6b8bff820",
   "metadata": {},
   "outputs": [
    {
     "name": "stdout",
     "output_type": "stream",
     "text": [
      "Размерность данных TEST:  (10000, 785)\n",
      "Метки классов TEST:  [0 1 2 3 8 6 5 4 7 9]\n",
      "Размерность данных TRAIN без Lable:  (60000, 784)\n"
     ]
    }
   ],
   "source": [
    "import pandas as pd\n",
    "import numpy as np\n",
    "import matplotlib.pyplot as plt\n",
    "from sklearn.datasets import load_digits\n",
    "from sklearn.model_selection import train_test_split\n",
    "from sklearn.preprocessing import StandardScaler\n",
    "from sklearn.neighbors import KNeighborsClassifier\n",
    "from sklearn.metrics import accuracy_score, classification_report\n",
    "\n",
    "# Загрузка данных из файлов CSV с указанием параметра low_memory=False\n",
    "train_data = pd.read_csv('data/fashion-mnist_train.csv', low_memory=False)\n",
    "test_data = pd.read_csv('data/fashion-mnist_test.csv', low_memory=False)\n",
    "\n",
    "# Выводим информацию о датасете\n",
    "print(\"Размерность данных TEST: \", test_data.shape)\n",
    "print(\"Метки классов TEST: \", test_data['label'].unique())\n",
    "# Проверка размерности данных\n",
    "print(\"Размерность данных TRAIN без Lable: \", train_data.drop(columns=['label']).shape)"
   ]
  },
  {
   "cell_type": "code",
   "execution_count": 41,
   "id": "6c21f559-2bc3-47d8-84ba-db02a4099ec7",
   "metadata": {},
   "outputs": [
    {
     "data": {
      "image/png": "[encoded data removed]",
      "text/plain": [
       "<Figure size 1000x500 with 10 Axes>"
      ]
     },
     "metadata": {},
     "output_type": "display_data"
    }
   ],
   "source": [
    "# Преобразование данных в массив NumPy и затем в форму изображений\n",
    "train_data_images = train_data.drop(columns=['label']).values\n",
    "\n",
    "# Проверка, что количество элементов кратно 784\n",
    "if train_data_images.size % 784 == 0:\n",
    "    train_data_images = train_data_images.reshape(-1, 28, 28)\n",
    "else:\n",
    "    print(\"Ошибка: количество элементов в данных не кратно 784\")\n",
    "\n",
    "# Выводим несколько изображений из датасета\n",
    "fig, axes = plt.subplots(2, 5, figsize=(10, 5))\n",
    "for i, ax in enumerate(axes.ravel()):\n",
    "    ax.imshow(train_data_images[i], cmap='gray')\n",
    "    ax.set_title(f'Label: {train_data[\"label\"].iloc[i]}')\n",
    "    ax.axis('off')\n",
    "plt.show()\n"
   ]
  },
  {
   "cell_type": "code",
   "execution_count": 42,
   "id": "6cb63cd8-dea6-4363-817b-b33d590ae53e",
   "metadata": {},
   "outputs": [
    {
     "name": "stdout",
     "output_type": "stream",
     "text": [
      "Точность модели KNeighborsClassifier: 0.8609\n",
      "              precision    recall  f1-score   support\n",
      "\n",
      "           0       0.77      0.87      0.82      1000\n",
      "           1       0.99      0.97      0.98      1000\n",
      "           2       0.79      0.78      0.78      1000\n",
      "           3       0.91      0.88      0.90      1000\n",
      "           4       0.79      0.81      0.80      1000\n",
      "           5       0.99      0.83      0.90      1000\n",
      "           6       0.66      0.61      0.63      1000\n",
      "           7       0.88      0.94      0.91      1000\n",
      "           8       0.98      0.94      0.96      1000\n",
      "           9       0.89      0.97      0.93      1000\n",
      "\n",
      "    accuracy                           0.86     10000\n",
      "   macro avg       0.86      0.86      0.86     10000\n",
      "weighted avg       0.86      0.86      0.86     10000\n",
      "\n"
     ]
    }
   ],
   "source": [
    "# Разделение данных на признаки и метки\n",
    "x_train = train_data.drop(columns=['label']).values\n",
    "y_train = train_data['label'].values\n",
    "x_test = test_data.drop(columns=['label']).values\n",
    "y_test = test_data['label'].values\n",
    "\n",
    "# Нормализация данных\n",
    "scaler = StandardScaler()\n",
    "x_train = scaler.fit_transform(x_train)\n",
    "x_test = scaler.transform(x_test)\n",
    "\n",
    "# Создание модели KNeighborsClassifier\n",
    "knn = KNeighborsClassifier(n_neighbors=7,weights='uniform',metric='minkowski')\n",
    "\n",
    "# Обучение модели\n",
    "knn.fit(x_train, y_train)\n",
    "\n",
    "# Предсказание на тестовых данных\n",
    "y_pred = knn.predict(x_test)\n",
    "\n",
    "# Оценка модели\n",
    "accuracy = accuracy_score(y_test, y_pred)\n",
    "print(f\"Точность модели KNeighborsClassifier: {accuracy:.4f}\")\n",
    "\n",
    "# Вывод отчета о классификации\n",
    "print(classification_report(y_test, y_pred))\n"
   ]
  },
  {
   "cell_type": "code",
   "execution_count": 43,
   "id": "70c9c0fa-64d6-4888-bb55-e9983e4cdbf1",
   "metadata": {},
   "outputs": [
    {
     "name": "stdout",
     "output_type": "stream",
     "text": [
      "Точность модели Extra Trees Classifier: 0.8831\n",
      "              precision    recall  f1-score   support\n",
      "\n",
      "           0       0.80      0.87      0.83      1000\n",
      "           1       0.99      0.97      0.98      1000\n",
      "           2       0.80      0.81      0.80      1000\n",
      "           3       0.89      0.93      0.91      1000\n",
      "           4       0.80      0.86      0.83      1000\n",
      "           5       0.97      0.94      0.96      1000\n",
      "           6       0.74      0.59      0.66      1000\n",
      "           7       0.92      0.94      0.93      1000\n",
      "           8       0.96      0.97      0.97      1000\n",
      "           9       0.94      0.95      0.95      1000\n",
      "\n",
      "    accuracy                           0.88     10000\n",
      "   macro avg       0.88      0.88      0.88     10000\n",
      "weighted avg       0.88      0.88      0.88     10000\n",
      "\n"
     ]
    }
   ],
   "source": [
    "from sklearn.ensemble import ExtraTreesClassifier\n",
    "\n",
    "# Создание модели Extra Trees Classifier\n",
    "etc = ExtraTreesClassifier()\n",
    "\n",
    "# Обучение модели\n",
    "etc.fit(x_train, y_train)\n",
    "\n",
    "# Предсказание на тестовых данных\n",
    "y_pred_etc = etc.predict(x_test)\n",
    "\n",
    "# Оценка модели\n",
    "accuracy_etc = accuracy_score(y_test, y_pred_etc)\n",
    "print(f\"Точность модели Extra Trees Classifier: {accuracy_etc:.4f}\")\n",
    "\n",
    "# Вывод отчета о классификации\n",
    "print(classification_report(y_test, y_pred_etc))\n"
   ]
  },
  {
   "cell_type": "code",
   "execution_count": 44,
   "id": "a60751a2-92c8-4ae3-b2bc-9e81ce18325f",
   "metadata": {},
   "outputs": [
    {
     "name": "stdout",
     "output_type": "stream",
     "text": [
      "Точность модели CatBoost Classifier: 0.9072\n",
      "              precision    recall  f1-score   support\n",
      "\n",
      "           0       0.85      0.88      0.86      1000\n",
      "           1       0.99      0.98      0.98      1000\n",
      "           2       0.86      0.84      0.85      1000\n",
      "           3       0.91      0.94      0.92      1000\n",
      "           4       0.86      0.88      0.87      1000\n",
      "           5       0.98      0.95      0.97      1000\n",
      "           6       0.77      0.71      0.74      1000\n",
      "           7       0.93      0.95      0.94      1000\n",
      "           8       0.97      0.98      0.97      1000\n",
      "           9       0.95      0.96      0.96      1000\n",
      "\n",
      "    accuracy                           0.91     10000\n",
      "   macro avg       0.91      0.91      0.91     10000\n",
      "weighted avg       0.91      0.91      0.91     10000\n",
      "\n"
     ]
    }
   ],
   "source": [
    "from catboost import CatBoostClassifier\n",
    "\n",
    "# Создание модели CatBoost Classifier с использованием GPU и параллельного вычисления\n",
    "cbc = CatBoostClassifier(task_type='GPU', devices='0:1', thread_count=-1, verbose=0)\n",
    "\n",
    "# Обучение модели\n",
    "cbc.fit(x_train, y_train)\n",
    "\n",
    "# Предсказание на тестовых данных\n",
    "y_pred_cbc = cbc.predict(x_test)\n",
    "\n",
    "# Оценка модели\n",
    "accuracy_cbc = accuracy_score(y_test, y_pred_cbc)\n",
    "print(f\"Точность модели CatBoost Classifier: {accuracy_cbc:.4f}\")\n",
    "\n",
    "# Вывод отчета о классификации\n",
    "print(classification_report(y_test, y_pred_cbc))"
   ]
  },
  {
   "cell_type": "code",
   "execution_count": 45,
   "id": "2b24f5d9-2ea1-40b0-9bb9-56956ad11f2c",
   "metadata": {},
   "outputs": [
    {
     "name": "stderr",
     "output_type": "stream",
     "text": [
      "D:\\anaconda3\\envs\\hw2\\lib\\site-packages\\sklearn\\utils\\deprecation.py:151: FutureWarning: 'force_all_finite' was renamed to 'ensure_all_finite' in 1.6 and will be removed in 1.8.\n",
      "  warnings.warn(\n"
     ]
    },
    {
     "name": "stdout",
     "output_type": "stream",
     "text": [
      "[LightGBM] [Info] Auto-choosing col-wise multi-threading, the overhead of testing was 0.180569 seconds.\n",
      "You can set `force_col_wise=true` to remove the overhead.\n",
      "[LightGBM] [Info] Total Bins 175291\n",
      "[LightGBM] [Info] Number of data points in the train set: 60000, number of used features: 783\n",
      "[LightGBM] [Info] Start training from score -2.302585\n",
      "[LightGBM] [Info] Start training from score -2.302585\n",
      "[LightGBM] [Info] Start training from score -2.302585\n",
      "[LightGBM] [Info] Start training from score -2.302585\n",
      "[LightGBM] [Info] Start training from score -2.302585\n",
      "[LightGBM] [Info] Start training from score -2.302585\n",
      "[LightGBM] [Info] Start training from score -2.302585\n",
      "[LightGBM] [Info] Start training from score -2.302585\n",
      "[LightGBM] [Info] Start training from score -2.302585\n",
      "[LightGBM] [Info] Start training from score -2.302585\n",
      "Точность модели LightGBM Classifier: 0.9045\n",
      "              precision    recall  f1-score   support\n",
      "\n",
      "           0       0.83      0.86      0.85      1000\n",
      "           1       0.99      0.98      0.98      1000\n",
      "           2       0.84      0.83      0.84      1000\n",
      "           3       0.91      0.93      0.92      1000\n",
      "           4       0.85      0.87      0.86      1000\n",
      "           5       0.99      0.96      0.97      1000\n",
      "           6       0.75      0.70      0.73      1000\n",
      "           7       0.95      0.96      0.96      1000\n",
      "           8       0.98      0.98      0.98      1000\n",
      "           9       0.96      0.97      0.96      1000\n",
      "\n",
      "    accuracy                           0.90     10000\n",
      "   macro avg       0.90      0.90      0.90     10000\n",
      "weighted avg       0.90      0.90      0.90     10000\n",
      "\n"
     ]
    },
    {
     "name": "stderr",
     "output_type": "stream",
     "text": [
      "D:\\anaconda3\\envs\\hw2\\lib\\site-packages\\sklearn\\utils\\deprecation.py:151: FutureWarning: 'force_all_finite' was renamed to 'ensure_all_finite' in 1.6 and will be removed in 1.8.\n",
      "  warnings.warn(\n"
     ]
    }
   ],
   "source": [
    "import lightgbm as lgb\n",
    "\n",
    "# Создание модели LightGBM Classifier\n",
    "lgbm = lgb.LGBMClassifier()\n",
    "\n",
    "# Обучение модели\n",
    "lgbm.fit(x_train, y_train)\n",
    "\n",
    "# Предсказание на тестовых данных\n",
    "y_pred_lgbm = lgbm.predict(x_test)\n",
    "\n",
    "# Оценка модели\n",
    "accuracy_lgbm = accuracy_score(y_test, y_pred_lgbm)\n",
    "print(f\"Точность модели LightGBM Classifier: {accuracy_lgbm:.4f}\")\n",
    "\n",
    "# Вывод отчета о классификации\n",
    "print(classification_report(y_test, y_pred_lgbm))"
   ]
  },
  {
   "cell_type": "code",
   "execution_count": 47,
   "id": "0843272b-8814-446b-bbed-6ad46edf57b2",
   "metadata": {},
   "outputs": [
    {
     "name": "stderr",
     "output_type": "stream",
     "text": [
      "D:\\anaconda3\\envs\\hw2\\lib\\site-packages\\xgboost\\sklearn.py:1224: UserWarning: The use of label encoder in XGBClassifier is deprecated and will be removed in a future release. To remove this warning, do the following: 1) Pass option use_label_encoder=False when constructing XGBClassifier object; and 2) Encode your labels (y) as integers starting with 0, i.e. 0, 1, 2, ..., [num_class - 1].\n",
      "  warnings.warn(label_encoder_deprecation_msg, UserWarning)\n"
     ]
    },
    {
     "name": "stdout",
     "output_type": "stream",
     "text": [
      "[18:06:26] WARNING: C:\\b\\abs_2dxt7xpzfb\\croot\\xgboost-split_1721080017223\\work\\src\\learner.cc:1115: Starting in XGBoost 1.3.0, the default evaluation metric used with the objective 'multi:softprob' was changed from 'merror' to 'mlogloss'. Explicitly set eval_metric if you'd like to restore the old behavior.\n",
      "Точность модели XGBoost Classifier: 0.9062\n",
      "              precision    recall  f1-score   support\n",
      "\n",
      "           0       0.83      0.86      0.85      1000\n",
      "           1       0.99      0.98      0.99      1000\n",
      "           2       0.85      0.83      0.84      1000\n",
      "           3       0.92      0.93      0.92      1000\n",
      "           4       0.85      0.88      0.87      1000\n",
      "           5       0.99      0.96      0.98      1000\n",
      "           6       0.75      0.71      0.73      1000\n",
      "           7       0.95      0.96      0.95      1000\n",
      "           8       0.97      0.98      0.98      1000\n",
      "           9       0.96      0.97      0.96      1000\n",
      "\n",
      "    accuracy                           0.91     10000\n",
      "   macro avg       0.91      0.91      0.91     10000\n",
      "weighted avg       0.91      0.91      0.91     10000\n",
      "\n"
     ]
    }
   ],
   "source": [
    "import xgboost as xgb\n",
    "\n",
    "# Создание модели XGBoost Classifier\n",
    "xgb_clf = xgb.XGBClassifier()\n",
    "\n",
    "# Обучение модели\n",
    "xgb_clf.fit(x_train, y_train)\n",
    "\n",
    "# Предсказание на тестовых данных\n",
    "y_pred_xgb = xgb_clf.predict(x_test)\n",
    "\n",
    "# Оценка модели\n",
    "accuracy_xgb = accuracy_score(y_test, y_pred_xgb)\n",
    "print(f\"Точность модели XGBoost Classifier: {accuracy_xgb:.4f}\")\n",
    "\n",
    "# Вывод отчета о классификации\n",
    "print(classification_report(y_test, y_pred_xgb))"
   ]
  },
  {
   "cell_type": "code",
   "execution_count": 34,
   "id": "28f9182b-c3c3-4d58-82c8-4d54dbc38aae",
   "metadata": {},
   "outputs": [
    {
     "name": "stdout",
     "output_type": "stream",
     "text": [
      "Точность модели AdaBoost Classifier: 0.5341\n",
      "              precision    recall  f1-score   support\n",
      "\n",
      "           0       0.73      0.72      0.72      1000\n",
      "           1       0.97      0.78      0.87      1000\n",
      "           2       0.36      0.76      0.49      1000\n",
      "           3       0.59      0.81      0.69      1000\n",
      "           4       0.22      0.08      0.12      1000\n",
      "           5       0.80      0.45      0.57      1000\n",
      "           6       0.26      0.09      0.13      1000\n",
      "           7       0.07      0.00      0.01      1000\n",
      "           8       0.65      0.90      0.75      1000\n",
      "           9       0.37      0.75      0.50      1000\n",
      "\n",
      "    accuracy                           0.53     10000\n",
      "   macro avg       0.50      0.53      0.48     10000\n",
      "weighted avg       0.50      0.53      0.48     10000\n",
      "\n"
     ]
    }
   ],
   "source": [
    "from sklearn.ensemble import AdaBoostClassifier\n",
    "\n",
    "# Создание модели AdaBoost Classifier\n",
    "abc = AdaBoostClassifier()\n",
    "\n",
    "# Обучение модели\n",
    "abc.fit(x_train, y_train)\n",
    "\n",
    "# Предсказание на тестовых данных\n",
    "y_pred_abc = abc.predict(x_test)\n",
    "\n",
    "# Оценка модели\n",
    "accuracy_abc = accuracy_score(y_test, y_pred_abc)\n",
    "print(f\"Точность модели AdaBoost Classifier: {accuracy_abc:.4f}\")\n",
    "\n",
    "# Вывод отчета о классификации\n",
    "print(classification_report(y_test, y_pred_abc))\n"
   ]
  },
  {
   "cell_type": "code",
   "execution_count": null,
   "id": "26d4edce-2ed1-40ba-8e99-cf3a2c98f538",
   "metadata": {},
   "outputs": [],
   "source": []
  }
 ],
 "metadata": {
  "kernelspec": {
   "display_name": "Python 3 (ipykernel)",
   "language": "python",
   "name": "python3"
  },
  "language_info": {
   "codemirror_mode": {
    "name": "ipython",
    "version": 3
   },
   "file_extension": ".py",
   "mimetype": "text/x-python",
   "name": "python",
   "nbconvert_exporter": "python",
   "pygments_lexer": "ipython3",
   "version": "3.10.14"
  }
 },
 "nbformat": 4,
 "nbformat_minor": 5
}
